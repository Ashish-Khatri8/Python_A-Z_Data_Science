{
 "cells": [
  {
   "cell_type": "code",
   "execution_count": 1,
   "id": "236aac84",
   "metadata": {},
   "outputs": [],
   "source": [
    "# Boolean/ Logical :- True, False"
   ]
  },
  {
   "cell_type": "code",
   "execution_count": 2,
   "id": "13c1eee1",
   "metadata": {},
   "outputs": [
    {
     "name": "stdout",
     "output_type": "stream",
     "text": [
      "False\n"
     ]
    }
   ],
   "source": [
    "print(15 > 45)"
   ]
  },
  {
   "cell_type": "code",
   "execution_count": 3,
   "id": "6bbfd25d",
   "metadata": {},
   "outputs": [
    {
     "name": "stdout",
     "output_type": "stream",
     "text": [
      "True\n"
     ]
    }
   ],
   "source": [
    "print(15 == 15)"
   ]
  },
  {
   "cell_type": "code",
   "execution_count": 4,
   "id": "ccb769d1",
   "metadata": {},
   "outputs": [
    {
     "name": "stdout",
     "output_type": "stream",
     "text": [
      "False\n"
     ]
    }
   ],
   "source": [
    "print(43 < 12)"
   ]
  },
  {
   "cell_type": "code",
   "execution_count": 5,
   "id": "a6dc9ab6",
   "metadata": {},
   "outputs": [
    {
     "name": "stdout",
     "output_type": "stream",
     "text": [
      "True\n"
     ]
    }
   ],
   "source": [
    "print(53 != 11)"
   ]
  },
  {
   "cell_type": "markdown",
   "id": "7e215cb2",
   "metadata": {},
   "source": [
    "---"
   ]
  },
  {
   "cell_type": "code",
   "execution_count": 6,
   "id": "383ef127",
   "metadata": {},
   "outputs": [],
   "source": [
    "# Operators : \n",
    "\n",
    "# ==, !=, <>, <, >, <=, >=, and , or, not"
   ]
  },
  {
   "cell_type": "markdown",
   "id": "bf128a1b",
   "metadata": {},
   "source": [
    "---"
   ]
  },
  {
   "cell_type": "code",
   "execution_count": 7,
   "id": "2f7c6169",
   "metadata": {},
   "outputs": [],
   "source": [
    "result = 7 < 11"
   ]
  },
  {
   "cell_type": "code",
   "execution_count": 8,
   "id": "3fe3e2f3",
   "metadata": {},
   "outputs": [
    {
     "name": "stdout",
     "output_type": "stream",
     "text": [
      "True\n"
     ]
    }
   ],
   "source": [
    "print(result)"
   ]
  },
  {
   "cell_type": "code",
   "execution_count": 9,
   "id": "b04ba664",
   "metadata": {},
   "outputs": [
    {
     "name": "stdout",
     "output_type": "stream",
     "text": [
      "<class 'bool'>\n"
     ]
    }
   ],
   "source": [
    "print(type(result))"
   ]
  },
  {
   "cell_type": "markdown",
   "id": "15b84984",
   "metadata": {},
   "source": [
    "---"
   ]
  },
  {
   "cell_type": "code",
   "execution_count": 10,
   "id": "8ed2ab36",
   "metadata": {},
   "outputs": [],
   "source": [
    "result2 = not(5 > 1)"
   ]
  },
  {
   "cell_type": "code",
   "execution_count": 11,
   "id": "7f999faa",
   "metadata": {},
   "outputs": [
    {
     "name": "stdout",
     "output_type": "stream",
     "text": [
      "False\n"
     ]
    }
   ],
   "source": [
    "print(result2)"
   ]
  },
  {
   "cell_type": "markdown",
   "id": "06c98eaa",
   "metadata": {},
   "source": [
    "---"
   ]
  },
  {
   "cell_type": "code",
   "execution_count": 12,
   "id": "cbbd3e15",
   "metadata": {},
   "outputs": [
    {
     "name": "stdout",
     "output_type": "stream",
     "text": [
      "True\n"
     ]
    }
   ],
   "source": [
    "print(result or result2)"
   ]
  },
  {
   "cell_type": "code",
   "execution_count": 13,
   "id": "49d139ac",
   "metadata": {},
   "outputs": [
    {
     "name": "stdout",
     "output_type": "stream",
     "text": [
      "False\n"
     ]
    }
   ],
   "source": [
    "print(result and result2)"
   ]
  },
  {
   "cell_type": "markdown",
   "id": "746a460f",
   "metadata": {},
   "source": [
    "---"
   ]
  },
  {
   "cell_type": "code",
   "execution_count": 14,
   "id": "ba79f4ed",
   "metadata": {},
   "outputs": [
    {
     "name": "stdout",
     "output_type": "stream",
     "text": [
      "False\n"
     ]
    }
   ],
   "source": [
    "print(result == result2)"
   ]
  },
  {
   "cell_type": "code",
   "execution_count": 15,
   "id": "18ae0923",
   "metadata": {},
   "outputs": [
    {
     "name": "stdout",
     "output_type": "stream",
     "text": [
      "True\n"
     ]
    }
   ],
   "source": [
    "print(result != result2)"
   ]
  },
  {
   "cell_type": "code",
   "execution_count": null,
   "id": "297b343e",
   "metadata": {},
   "outputs": [],
   "source": []
  }
 ],
 "metadata": {
  "kernelspec": {
   "display_name": "Python 3",
   "language": "python",
   "name": "python3"
  },
  "language_info": {
   "codemirror_mode": {
    "name": "ipython",
    "version": 3
   },
   "file_extension": ".py",
   "mimetype": "text/x-python",
   "name": "python",
   "nbconvert_exporter": "python",
   "pygments_lexer": "ipython3",
   "version": "3.8.8"
  }
 },
 "nbformat": 4,
 "nbformat_minor": 5
}
