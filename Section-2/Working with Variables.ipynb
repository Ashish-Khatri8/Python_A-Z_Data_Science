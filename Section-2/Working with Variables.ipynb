{
 "cells": [
  {
   "cell_type": "code",
   "execution_count": 2,
   "id": "f42ebb93",
   "metadata": {},
   "outputs": [],
   "source": [
    "x = 12"
   ]
  },
  {
   "cell_type": "code",
   "execution_count": 3,
   "id": "a75cebbd",
   "metadata": {},
   "outputs": [],
   "source": [
    "y = 91"
   ]
  },
  {
   "cell_type": "code",
   "execution_count": 5,
   "id": "115ad317",
   "metadata": {},
   "outputs": [],
   "source": [
    "# Arithmetics : "
   ]
  },
  {
   "cell_type": "code",
   "execution_count": 6,
   "id": "20dc7271",
   "metadata": {},
   "outputs": [],
   "source": [
    "z = x + y"
   ]
  },
  {
   "cell_type": "code",
   "execution_count": 7,
   "id": "cd279954",
   "metadata": {},
   "outputs": [],
   "source": [
    "d = x/y"
   ]
  },
  {
   "cell_type": "code",
   "execution_count": 8,
   "id": "43c492de",
   "metadata": {},
   "outputs": [],
   "source": [
    "m = x * y"
   ]
  },
  {
   "cell_type": "code",
   "execution_count": 9,
   "id": "bf45ec29",
   "metadata": {},
   "outputs": [],
   "source": [
    "s = x - y"
   ]
  },
  {
   "cell_type": "code",
   "execution_count": 10,
   "id": "97b7c8d5",
   "metadata": {},
   "outputs": [
    {
     "name": "stdout",
     "output_type": "stream",
     "text": [
      "103\n",
      "0.13186813186813187\n",
      "1092\n",
      "-79\n"
     ]
    }
   ],
   "source": [
    "print(z)\n",
    "print(d)\n",
    "print(m)\n",
    "print(s)"
   ]
  },
  {
   "cell_type": "markdown",
   "id": "be3d9e72",
   "metadata": {},
   "source": [
    "---"
   ]
  },
  {
   "cell_type": "code",
   "execution_count": 11,
   "id": "70a36713",
   "metadata": {},
   "outputs": [],
   "source": [
    "import math"
   ]
  },
  {
   "cell_type": "code",
   "execution_count": 12,
   "id": "ccb60524",
   "metadata": {},
   "outputs": [
    {
     "name": "stdout",
     "output_type": "stream",
     "text": [
      "33.04542328371661\n"
     ]
    }
   ],
   "source": [
    "print(math.sqrt(m))"
   ]
  },
  {
   "cell_type": "code",
   "execution_count": 13,
   "id": "8f9b9b4b",
   "metadata": {},
   "outputs": [
    {
     "name": "stdout",
     "output_type": "stream",
     "text": [
      "3.4641016151377544\n"
     ]
    }
   ],
   "source": [
    "print(math.sqrt(x))"
   ]
  },
  {
   "cell_type": "code",
   "execution_count": 14,
   "id": "48a9406a",
   "metadata": {},
   "outputs": [
    {
     "name": "stdout",
     "output_type": "stream",
     "text": [
      "3\n"
     ]
    }
   ],
   "source": [
    "print(round(math.sqrt(x)))"
   ]
  },
  {
   "cell_type": "markdown",
   "id": "92b72d60",
   "metadata": {},
   "source": [
    "---"
   ]
  },
  {
   "cell_type": "code",
   "execution_count": 15,
   "id": "32e95ba1",
   "metadata": {},
   "outputs": [],
   "source": [
    "greeting = \"Hello\"\n",
    "name = \"Blaze\""
   ]
  },
  {
   "cell_type": "code",
   "execution_count": 16,
   "id": "49b71168",
   "metadata": {},
   "outputs": [],
   "source": [
    "message = f\"{greeting} {name}!\""
   ]
  },
  {
   "cell_type": "code",
   "execution_count": 17,
   "id": "16611344",
   "metadata": {},
   "outputs": [
    {
     "name": "stdout",
     "output_type": "stream",
     "text": [
      "Hello Blaze!\n"
     ]
    }
   ],
   "source": [
    "print(message)"
   ]
  },
  {
   "cell_type": "code",
   "execution_count": 18,
   "id": "2f9d5725",
   "metadata": {},
   "outputs": [
    {
     "name": "stdout",
     "output_type": "stream",
     "text": [
      "# # # # # \n"
     ]
    }
   ],
   "source": [
    "print(\"# \"*5)"
   ]
  },
  {
   "cell_type": "code",
   "execution_count": 20,
   "id": "781940c0",
   "metadata": {},
   "outputs": [
    {
     "name": "stdout",
     "output_type": "stream",
     "text": [
      "5g\n"
     ]
    }
   ],
   "source": [
    "print(\"5\" + \"g\")"
   ]
  },
  {
   "cell_type": "code",
   "execution_count": null,
   "id": "2a731681",
   "metadata": {},
   "outputs": [],
   "source": []
  }
 ],
 "metadata": {
  "kernelspec": {
   "display_name": "Python 3",
   "language": "python",
   "name": "python3"
  },
  "language_info": {
   "codemirror_mode": {
    "name": "ipython",
    "version": 3
   },
   "file_extension": ".py",
   "mimetype": "text/x-python",
   "name": "python",
   "nbconvert_exporter": "python",
   "pygments_lexer": "ipython3",
   "version": "3.8.8"
  }
 },
 "nbformat": 4,
 "nbformat_minor": 5
}
