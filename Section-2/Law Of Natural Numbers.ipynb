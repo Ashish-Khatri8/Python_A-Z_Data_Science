{
 "cells": [
  {
   "cell_type": "markdown",
   "id": "3aa84c63",
   "metadata": {},
   "source": [
    "Q : Test the Law Of Natural Numbers for N random normally distributed numbers with mean = 0, stdev = 1.\n",
    "\n",
    "    Create a Python script that will count how many of these numbers fall between -1 and 1 and \n",
    "    divide by the total quantity of N.\n",
    "    \n",
    "    You know that E(X) = 68.2%\n",
    "    \n",
    "    Check that Mean(Xn) -> E(X) (i.e., check if mean is converging towards expected value) \n",
    "    as you rerun your script while increasing N."
   ]
  },
  {
   "cell_type": "code",
   "execution_count": 1,
   "id": "a7f5767a",
   "metadata": {},
   "outputs": [],
   "source": [
    "from numpy.random import randn"
   ]
  },
  {
   "cell_type": "code",
   "execution_count": 2,
   "id": "8dee16b5",
   "metadata": {},
   "outputs": [],
   "source": [
    "limits = [10, 100, 1000, 10000, 100000, 1000000]\n",
    "counter = 0"
   ]
  },
  {
   "cell_type": "code",
   "execution_count": 6,
   "id": "025f83f1",
   "metadata": {},
   "outputs": [
    {
     "name": "stdout",
     "output_type": "stream",
     "text": [
      "For N = 10, E(X) = 90.0%\n",
      "For N = 100, E(X) = 55.00000000000001%\n",
      "For N = 1000, E(X) = 69.6%\n",
      "For N = 10000, E(X) = 68.05%\n",
      "For N = 100000, E(X) = 68.257%\n",
      "For N = 1000000, E(X) = 68.19380000000001%\n"
     ]
    }
   ],
   "source": [
    "for limit in limits:\n",
    "    counter = 0\n",
    "    for i in range(limit):\n",
    "        num = randn()\n",
    "        if num >= -1 and num <= 1:\n",
    "            counter += 1\n",
    "    \n",
    "    print(f\"For N = {limit}, E(X) = {counter/limit * 100}%\")\n",
    "    \n",
    "        "
   ]
  },
  {
   "cell_type": "code",
   "execution_count": null,
   "id": "9577f294",
   "metadata": {},
   "outputs": [],
   "source": []
  }
 ],
 "metadata": {
  "kernelspec": {
   "display_name": "Python 3",
   "language": "python",
   "name": "python3"
  },
  "language_info": {
   "codemirror_mode": {
    "name": "ipython",
    "version": 3
   },
   "file_extension": ".py",
   "mimetype": "text/x-python",
   "name": "python",
   "nbconvert_exporter": "python",
   "pygments_lexer": "ipython3",
   "version": "3.8.8"
  }
 },
 "nbformat": 4,
 "nbformat_minor": 5
}
