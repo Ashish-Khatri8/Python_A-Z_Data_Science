{
 "cells": [
  {
   "cell_type": "code",
   "execution_count": 1,
   "id": "470edf3b",
   "metadata": {},
   "outputs": [
    {
     "name": "stdout",
     "output_type": "stream",
     "text": [
      "range(1, 11)\n"
     ]
    }
   ],
   "source": [
    "print(range(1, 11))"
   ]
  },
  {
   "cell_type": "code",
   "execution_count": 2,
   "id": "57064fb9",
   "metadata": {},
   "outputs": [
    {
     "name": "stdout",
     "output_type": "stream",
     "text": [
      "[1, 2, 3, 4, 5, 6, 7, 8, 9, 10]\n"
     ]
    }
   ],
   "source": [
    "print(list(range(1, 11)))"
   ]
  },
  {
   "cell_type": "code",
   "execution_count": 3,
   "id": "12e2c978",
   "metadata": {},
   "outputs": [],
   "source": [
    "myList = list(range(1, 51, 3)) "
   ]
  },
  {
   "cell_type": "code",
   "execution_count": 4,
   "id": "d554171b",
   "metadata": {},
   "outputs": [
    {
     "name": "stdout",
     "output_type": "stream",
     "text": [
      "[1, 4, 7, 10, 13, 16, 19, 22, 25, 28, 31, 34, 37, 40, 43, 46, 49]\n",
      "17\n"
     ]
    }
   ],
   "source": [
    "print(myList)\n",
    "print(len(myList))"
   ]
  },
  {
   "cell_type": "code",
   "execution_count": 15,
   "id": "5030d59e",
   "metadata": {},
   "outputs": [
    {
     "name": "stdout",
     "output_type": "stream",
     "text": [
      "49\n",
      "1\n"
     ]
    }
   ],
   "source": [
    "print(max(myList))\n",
    "print(min(myList))"
   ]
  },
  {
   "cell_type": "code",
   "execution_count": 5,
   "id": "26f34030",
   "metadata": {},
   "outputs": [],
   "source": [
    "def printList(list1, length):\n",
    "    for i in range(length):\n",
    "        print(list1[i], end = \"\\t\")"
   ]
  },
  {
   "cell_type": "code",
   "execution_count": 6,
   "id": "122fb9a9",
   "metadata": {},
   "outputs": [
    {
     "name": "stdout",
     "output_type": "stream",
     "text": [
      "1\t4\t7\t10\t13\t16\t19\t22\t25\t28\t31\t34\t37\t40\t43\t46\t49\t"
     ]
    }
   ],
   "source": [
    "printList(myList, len(myList))"
   ]
  },
  {
   "cell_type": "markdown",
   "id": "e80dfb99",
   "metadata": {},
   "source": [
    "---"
   ]
  },
  {
   "cell_type": "code",
   "execution_count": 7,
   "id": "01618927",
   "metadata": {},
   "outputs": [],
   "source": [
    "myList2 = ['a', 3, -24, 34.433, True, \"Hello\", -32, 0, \"False\", False, \"zyx\"]"
   ]
  },
  {
   "cell_type": "code",
   "execution_count": 10,
   "id": "42ab6bf9",
   "metadata": {},
   "outputs": [],
   "source": [
    "def printList2(list2):\n",
    "    for i in range(len(list2)):\n",
    "        print(list2[i], end = \"\\t:\\t\")\n",
    "        print(type(list2[i]))"
   ]
  },
  {
   "cell_type": "code",
   "execution_count": 11,
   "id": "001ad1b5",
   "metadata": {},
   "outputs": [
    {
     "name": "stdout",
     "output_type": "stream",
     "text": [
      "a\t:\t<class 'str'>\n",
      "3\t:\t<class 'int'>\n",
      "-24\t:\t<class 'int'>\n",
      "34.433\t:\t<class 'float'>\n",
      "True\t:\t<class 'bool'>\n",
      "Hello\t:\t<class 'str'>\n",
      "-32\t:\t<class 'int'>\n",
      "0\t:\t<class 'int'>\n",
      "False\t:\t<class 'str'>\n",
      "False\t:\t<class 'bool'>\n",
      "zyx\t:\t<class 'str'>\n"
     ]
    }
   ],
   "source": [
    "printList2(myList2)"
   ]
  },
  {
   "cell_type": "code",
   "execution_count": null,
   "id": "970e9f74",
   "metadata": {},
   "outputs": [],
   "source": []
  }
 ],
 "metadata": {
  "kernelspec": {
   "display_name": "Python 3",
   "language": "python",
   "name": "python3"
  },
  "language_info": {
   "codemirror_mode": {
    "name": "ipython",
    "version": 3
   },
   "file_extension": ".py",
   "mimetype": "text/x-python",
   "name": "python",
   "nbconvert_exporter": "python",
   "pygments_lexer": "ipython3",
   "version": "3.8.8"
  }
 },
 "nbformat": 4,
 "nbformat_minor": 5
}
