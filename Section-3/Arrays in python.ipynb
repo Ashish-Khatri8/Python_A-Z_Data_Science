{
 "cells": [
  {
   "cell_type": "code",
   "execution_count": 1,
   "id": "6a457dd5",
   "metadata": {},
   "outputs": [],
   "source": [
    "list1 = [10, 43, 232, 0, -43]"
   ]
  },
  {
   "cell_type": "code",
   "execution_count": 2,
   "id": "d10c20fd",
   "metadata": {},
   "outputs": [],
   "source": [
    "import numpy as np"
   ]
  },
  {
   "cell_type": "code",
   "execution_count": 3,
   "id": "6610b962",
   "metadata": {},
   "outputs": [],
   "source": [
    "arr1 = np.array(list1)"
   ]
  },
  {
   "cell_type": "code",
   "execution_count": 4,
   "id": "e4dbdf10",
   "metadata": {},
   "outputs": [
    {
     "name": "stdout",
     "output_type": "stream",
     "text": [
      "[ 10  43 232   0 -43]\n"
     ]
    }
   ],
   "source": [
    "print(arr1)"
   ]
  },
  {
   "cell_type": "code",
   "execution_count": 6,
   "id": "9dc6d227",
   "metadata": {},
   "outputs": [
    {
     "name": "stdout",
     "output_type": "stream",
     "text": [
      "<class 'numpy.ndarray'>\n"
     ]
    }
   ],
   "source": [
    "print(type(arr1))"
   ]
  },
  {
   "cell_type": "code",
   "execution_count": 7,
   "id": "b5e71b24",
   "metadata": {},
   "outputs": [
    {
     "data": {
      "text/plain": [
       "array([ 10,  43, 232,   0, -43])"
      ]
     },
     "execution_count": 7,
     "metadata": {},
     "output_type": "execute_result"
    }
   ],
   "source": [
    "arr1"
   ]
  },
  {
   "cell_type": "markdown",
   "id": "7c4c114f",
   "metadata": {},
   "source": [
    "---"
   ]
  },
  {
   "cell_type": "code",
   "execution_count": 8,
   "id": "1ef682e3",
   "metadata": {},
   "outputs": [],
   "source": [
    "list2 = [43, \"a\", True, \"hello\", \"world\", -32, 0]"
   ]
  },
  {
   "cell_type": "code",
   "execution_count": 9,
   "id": "9347d0a0",
   "metadata": {},
   "outputs": [],
   "source": [
    "arr2 = np.array(list2)"
   ]
  },
  {
   "cell_type": "code",
   "execution_count": 10,
   "id": "c77726f7",
   "metadata": {},
   "outputs": [
    {
     "data": {
      "text/plain": [
       "array(['43', 'a', 'True', 'hello', 'world', '-32', '0'], dtype='<U21')"
      ]
     },
     "execution_count": 10,
     "metadata": {},
     "output_type": "execute_result"
    }
   ],
   "source": [
    "arr2"
   ]
  },
  {
   "cell_type": "code",
   "execution_count": 11,
   "id": "ee4f8aaa",
   "metadata": {},
   "outputs": [
    {
     "data": {
      "text/plain": [
       "0"
      ]
     },
     "execution_count": 11,
     "metadata": {},
     "output_type": "execute_result"
    }
   ],
   "source": [
    "list2.pop()"
   ]
  },
  {
   "cell_type": "code",
   "execution_count": 12,
   "id": "f24f9bc2",
   "metadata": {},
   "outputs": [
    {
     "data": {
      "text/plain": [
       "48.4"
      ]
     },
     "execution_count": 12,
     "metadata": {},
     "output_type": "execute_result"
    }
   ],
   "source": [
    "arr1.mean()"
   ]
  },
  {
   "cell_type": "markdown",
   "id": "dfea2e52",
   "metadata": {},
   "source": [
    "---"
   ]
  },
  {
   "cell_type": "code",
   "execution_count": 13,
   "id": "e414f1d2",
   "metadata": {},
   "outputs": [],
   "source": [
    "list3 = [10, 43, 33.93, -21]"
   ]
  },
  {
   "cell_type": "code",
   "execution_count": 14,
   "id": "93b56f39",
   "metadata": {},
   "outputs": [],
   "source": [
    "arr3 = np.array(list3)"
   ]
  },
  {
   "cell_type": "code",
   "execution_count": 15,
   "id": "130d801c",
   "metadata": {},
   "outputs": [
    {
     "data": {
      "text/plain": [
       "array([ 10.  ,  43.  ,  33.93, -21.  ])"
      ]
     },
     "execution_count": 15,
     "metadata": {},
     "output_type": "execute_result"
    }
   ],
   "source": [
    "arr3"
   ]
  },
  {
   "cell_type": "code",
   "execution_count": 16,
   "id": "1b73e59d",
   "metadata": {},
   "outputs": [
    {
     "name": "stdout",
     "output_type": "stream",
     "text": [
      "[ 10.    43.    33.93 -21.  ]\n"
     ]
    }
   ],
   "source": [
    "print(arr3)"
   ]
  },
  {
   "cell_type": "markdown",
   "id": "6aeede2b",
   "metadata": {},
   "source": [
    "---"
   ]
  },
  {
   "cell_type": "code",
   "execution_count": 17,
   "id": "ac186c4d",
   "metadata": {},
   "outputs": [],
   "source": [
    "list4 = [10, 34, 32.2, True]"
   ]
  },
  {
   "cell_type": "code",
   "execution_count": 18,
   "id": "26267cdd",
   "metadata": {},
   "outputs": [],
   "source": [
    "arr4 = np.array(list4)"
   ]
  },
  {
   "cell_type": "code",
   "execution_count": 20,
   "id": "0936948d",
   "metadata": {},
   "outputs": [
    {
     "data": {
      "text/plain": [
       "array([10. , 34. , 32.2,  1. ])"
      ]
     },
     "execution_count": 20,
     "metadata": {},
     "output_type": "execute_result"
    }
   ],
   "source": [
    "arr4"
   ]
  },
  {
   "cell_type": "markdown",
   "id": "253f3cac",
   "metadata": {},
   "source": [
    "---"
   ]
  },
  {
   "cell_type": "code",
   "execution_count": 21,
   "id": "2adc898a",
   "metadata": {},
   "outputs": [],
   "source": [
    "# Slicing arrays."
   ]
  },
  {
   "cell_type": "code",
   "execution_count": 22,
   "id": "09a269fa",
   "metadata": {},
   "outputs": [],
   "source": [
    "list_a = [10, 20, 30, 40, 50]"
   ]
  },
  {
   "cell_type": "code",
   "execution_count": 23,
   "id": "242115a5",
   "metadata": {},
   "outputs": [],
   "source": [
    "arr_a = np.array(list_a)"
   ]
  },
  {
   "cell_type": "code",
   "execution_count": 24,
   "id": "396b1486",
   "metadata": {},
   "outputs": [
    {
     "name": "stdout",
     "output_type": "stream",
     "text": [
      "[10 20 30 40 50]\n"
     ]
    }
   ],
   "source": [
    "print(arr_a)"
   ]
  },
  {
   "cell_type": "code",
   "execution_count": 25,
   "id": "a0da00b5",
   "metadata": {},
   "outputs": [],
   "source": [
    "# Representation of a slice of same array\n",
    "arr_b = arr_a[1:4]"
   ]
  },
  {
   "cell_type": "code",
   "execution_count": 26,
   "id": "a198edd3",
   "metadata": {},
   "outputs": [
    {
     "name": "stdout",
     "output_type": "stream",
     "text": [
      "[20 30 40]\n"
     ]
    }
   ],
   "source": [
    "print(arr_b)"
   ]
  },
  {
   "cell_type": "code",
   "execution_count": 27,
   "id": "c7727519",
   "metadata": {},
   "outputs": [],
   "source": [
    "arr_b[:] = 5"
   ]
  },
  {
   "cell_type": "code",
   "execution_count": 28,
   "id": "119a1b5f",
   "metadata": {},
   "outputs": [
    {
     "name": "stdout",
     "output_type": "stream",
     "text": [
      "[5 5 5]\n",
      "[10  5  5  5 50]\n"
     ]
    }
   ],
   "source": [
    "print(arr_b)\n",
    "print(arr_a)"
   ]
  },
  {
   "cell_type": "code",
   "execution_count": 29,
   "id": "ecafd7f5",
   "metadata": {},
   "outputs": [],
   "source": [
    "# Copy of an array."
   ]
  },
  {
   "cell_type": "code",
   "execution_count": 30,
   "id": "b853fd7b",
   "metadata": {},
   "outputs": [],
   "source": [
    "arr_c = arr_a.copy()"
   ]
  },
  {
   "cell_type": "code",
   "execution_count": 31,
   "id": "7fddb0fb",
   "metadata": {},
   "outputs": [
    {
     "data": {
      "text/plain": [
       "array([10,  5,  5,  5, 50])"
      ]
     },
     "execution_count": 31,
     "metadata": {},
     "output_type": "execute_result"
    }
   ],
   "source": [
    "arr_c"
   ]
  },
  {
   "cell_type": "code",
   "execution_count": 32,
   "id": "7594a0cd",
   "metadata": {},
   "outputs": [],
   "source": [
    "arr_c[1:4] = 99"
   ]
  },
  {
   "cell_type": "code",
   "execution_count": 33,
   "id": "6b3427d5",
   "metadata": {},
   "outputs": [
    {
     "name": "stdout",
     "output_type": "stream",
     "text": [
      "[10 99 99 99 50]\n",
      "[10  5  5  5 50]\n"
     ]
    }
   ],
   "source": [
    "print(arr_c)\n",
    "print(arr_a)"
   ]
  },
  {
   "cell_type": "code",
   "execution_count": null,
   "id": "500c6017",
   "metadata": {},
   "outputs": [],
   "source": []
  }
 ],
 "metadata": {
  "kernelspec": {
   "display_name": "Python 3",
   "language": "python",
   "name": "python3"
  },
  "language_info": {
   "codemirror_mode": {
    "name": "ipython",
    "version": 3
   },
   "file_extension": ".py",
   "mimetype": "text/x-python",
   "name": "python",
   "nbconvert_exporter": "python",
   "pygments_lexer": "ipython3",
   "version": "3.8.8"
  }
 },
 "nbformat": 4,
 "nbformat_minor": 5
}
