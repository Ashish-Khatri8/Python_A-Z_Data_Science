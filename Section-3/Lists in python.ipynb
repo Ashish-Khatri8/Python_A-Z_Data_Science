{
 "cells": [
  {
   "cell_type": "code",
   "execution_count": 2,
   "id": "1f61644e",
   "metadata": {},
   "outputs": [],
   "source": [
    "myFirstList = [11, 43, 53, 0, 98, 44]"
   ]
  },
  {
   "cell_type": "code",
   "execution_count": 3,
   "id": "b51203a3",
   "metadata": {},
   "outputs": [
    {
     "name": "stdout",
     "output_type": "stream",
     "text": [
      "[11, 43, 53, 0, 98, 44]\n"
     ]
    }
   ],
   "source": [
    "print(myFirstList)"
   ]
  },
  {
   "cell_type": "code",
   "execution_count": 4,
   "id": "1aebc801",
   "metadata": {},
   "outputs": [
    {
     "name": "stdout",
     "output_type": "stream",
     "text": [
      "<class 'list'>\n"
     ]
    }
   ],
   "source": [
    "print(type(myFirstList))"
   ]
  },
  {
   "cell_type": "markdown",
   "id": "ed31a9db",
   "metadata": {},
   "source": [
    "---"
   ]
  },
  {
   "cell_type": "code",
   "execution_count": 5,
   "id": "39353487",
   "metadata": {},
   "outputs": [],
   "source": [
    "list2 = [32, \"hello\", \"z\", -32, True]"
   ]
  },
  {
   "cell_type": "code",
   "execution_count": 6,
   "id": "7d41a203",
   "metadata": {},
   "outputs": [
    {
     "name": "stdout",
     "output_type": "stream",
     "text": [
      "[32, 'hello', 'z', -32, True]\n"
     ]
    }
   ],
   "source": [
    "print(list2)"
   ]
  },
  {
   "cell_type": "code",
   "execution_count": 7,
   "id": "ec6afd6e",
   "metadata": {},
   "outputs": [
    {
     "name": "stdout",
     "output_type": "stream",
     "text": [
      "<class 'list'>\n"
     ]
    }
   ],
   "source": [
    "print(type(list2))"
   ]
  },
  {
   "cell_type": "markdown",
   "id": "bb902102",
   "metadata": {},
   "source": [
    "---"
   ]
  },
  {
   "cell_type": "code",
   "execution_count": 9,
   "id": "0041b4db",
   "metadata": {},
   "outputs": [],
   "source": [
    "l3 = [\"Blaze-K8\", 22, list2, myFirstList, [11, \"a\", False]]"
   ]
  },
  {
   "cell_type": "code",
   "execution_count": 10,
   "id": "0bc933ed",
   "metadata": {},
   "outputs": [
    {
     "name": "stdout",
     "output_type": "stream",
     "text": [
      "['Blaze-K8', 22, [32, 'hello', 'z', -32, True], [11, 43, 53, 0, 98, 44], [11, 'a', False]]\n"
     ]
    }
   ],
   "source": [
    "print(l3)"
   ]
  },
  {
   "cell_type": "code",
   "execution_count": 11,
   "id": "06179282",
   "metadata": {},
   "outputs": [
    {
     "name": "stdout",
     "output_type": "stream",
     "text": [
      "<class 'list'>\n"
     ]
    }
   ],
   "source": [
    "print(type(l3))"
   ]
  },
  {
   "cell_type": "markdown",
   "id": "70e474c2",
   "metadata": {},
   "source": [
    "---"
   ]
  },
  {
   "cell_type": "code",
   "execution_count": 12,
   "id": "120fec1f",
   "metadata": {},
   "outputs": [],
   "source": [
    "numbers = list(range(15))"
   ]
  },
  {
   "cell_type": "code",
   "execution_count": 13,
   "id": "a90ae50f",
   "metadata": {},
   "outputs": [
    {
     "name": "stdout",
     "output_type": "stream",
     "text": [
      "[0, 1, 2, 3, 4, 5, 6, 7, 8, 9, 10, 11, 12, 13, 14]\n"
     ]
    }
   ],
   "source": [
    "print(numbers)"
   ]
  },
  {
   "cell_type": "code",
   "execution_count": 14,
   "id": "ffbca9bc",
   "metadata": {},
   "outputs": [],
   "source": [
    "odd_nums = list(range(1, 16, 2))"
   ]
  },
  {
   "cell_type": "code",
   "execution_count": 15,
   "id": "4c316fd9",
   "metadata": {},
   "outputs": [
    {
     "name": "stdout",
     "output_type": "stream",
     "text": [
      "[1, 3, 5, 7, 9, 11, 13, 15]\n"
     ]
    }
   ],
   "source": [
    "print(odd_nums)"
   ]
  },
  {
   "cell_type": "markdown",
   "id": "eb6cb922",
   "metadata": {},
   "source": [
    "---"
   ]
  },
  {
   "cell_type": "code",
   "execution_count": 16,
   "id": "8d7a86fa",
   "metadata": {},
   "outputs": [],
   "source": [
    "vowels = ['a', 'e', 'i', 'o', 'u']"
   ]
  },
  {
   "cell_type": "code",
   "execution_count": 17,
   "id": "6c7637e6",
   "metadata": {},
   "outputs": [
    {
     "name": "stdout",
     "output_type": "stream",
     "text": [
      "['a', 'e', 'i', 'o', 'u']\n",
      "5\n"
     ]
    }
   ],
   "source": [
    "print(vowels)\n",
    "print(len(vowels))"
   ]
  },
  {
   "cell_type": "code",
   "execution_count": 20,
   "id": "495a1101",
   "metadata": {},
   "outputs": [
    {
     "name": "stdout",
     "output_type": "stream",
     "text": [
      "a e i o u "
     ]
    }
   ],
   "source": [
    "for i in range(0, len(vowels)):\n",
    "    print(vowels[i], end = \" \")"
   ]
  },
  {
   "cell_type": "code",
   "execution_count": 21,
   "id": "ac6d66e5",
   "metadata": {},
   "outputs": [
    {
     "name": "stdout",
     "output_type": "stream",
     "text": [
      "u\n",
      "e\n"
     ]
    }
   ],
   "source": [
    "print(vowels[-1])\n",
    "print(vowels[-4])"
   ]
  },
  {
   "cell_type": "code",
   "execution_count": 22,
   "id": "9a04380a",
   "metadata": {},
   "outputs": [],
   "source": [
    "vowels[0] = \"u\"\n",
    "vowels[4] = \"a\""
   ]
  },
  {
   "cell_type": "code",
   "execution_count": 23,
   "id": "dbdb69d4",
   "metadata": {},
   "outputs": [
    {
     "name": "stdout",
     "output_type": "stream",
     "text": [
      "['u', 'e', 'i', 'o', 'a']\n"
     ]
    }
   ],
   "source": [
    "print(vowels)"
   ]
  },
  {
   "cell_type": "markdown",
   "id": "9b0a9592",
   "metadata": {},
   "source": [
    "---"
   ]
  },
  {
   "cell_type": "code",
   "execution_count": 25,
   "id": "9f7750b8",
   "metadata": {},
   "outputs": [],
   "source": [
    "letters1 = ['a', 'b', 'c', 'd', 'e', 'f', 'g', 'h', 'i', 'j']"
   ]
  },
  {
   "cell_type": "code",
   "execution_count": 26,
   "id": "17d872af",
   "metadata": {},
   "outputs": [],
   "source": [
    "letters2 = letters1[3:6]"
   ]
  },
  {
   "cell_type": "code",
   "execution_count": 28,
   "id": "369cff2a",
   "metadata": {},
   "outputs": [],
   "source": [
    "letters3 = letters1[-10:8:2]"
   ]
  },
  {
   "cell_type": "code",
   "execution_count": 29,
   "id": "9baa1901",
   "metadata": {},
   "outputs": [
    {
     "name": "stdout",
     "output_type": "stream",
     "text": [
      "['a', 'b', 'c', 'd', 'e', 'f', 'g', 'h', 'i', 'j']\n",
      "['d', 'e', 'f']\n",
      "['a', 'c', 'e', 'g']\n"
     ]
    }
   ],
   "source": [
    "print(letters1)\n",
    "print(letters2)\n",
    "print(letters3)"
   ]
  },
  {
   "cell_type": "code",
   "execution_count": 30,
   "id": "e25d8b31",
   "metadata": {},
   "outputs": [],
   "source": [
    "letters4 = letters1[-1:0:-2]"
   ]
  },
  {
   "cell_type": "code",
   "execution_count": 31,
   "id": "d7cd87d5",
   "metadata": {},
   "outputs": [
    {
     "name": "stdout",
     "output_type": "stream",
     "text": [
      "['j', 'h', 'f', 'd', 'b']\n"
     ]
    }
   ],
   "source": [
    "print(letters4)"
   ]
  },
  {
   "cell_type": "code",
   "execution_count": null,
   "id": "ad1df760",
   "metadata": {},
   "outputs": [],
   "source": []
  }
 ],
 "metadata": {
  "kernelspec": {
   "display_name": "Python 3",
   "language": "python",
   "name": "python3"
  },
  "language_info": {
   "codemirror_mode": {
    "name": "ipython",
    "version": 3
   },
   "file_extension": ".py",
   "mimetype": "text/x-python",
   "name": "python",
   "nbconvert_exporter": "python",
   "pygments_lexer": "ipython3",
   "version": "3.8.8"
  }
 },
 "nbformat": 4,
 "nbformat_minor": 5
}
