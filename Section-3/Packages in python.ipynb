{
 "cells": [
  {
   "cell_type": "code",
   "execution_count": 1,
   "id": "ae320789",
   "metadata": {},
   "outputs": [],
   "source": [
    "# Importing packages"
   ]
  },
  {
   "cell_type": "code",
   "execution_count": 2,
   "id": "dbefc1ac",
   "metadata": {},
   "outputs": [],
   "source": [
    "import random\n",
    "import numpy"
   ]
  },
  {
   "cell_type": "code",
   "execution_count": 16,
   "id": "28e6a942",
   "metadata": {},
   "outputs": [
    {
     "name": "stdout",
     "output_type": "stream",
     "text": [
      "3\t:\t0\n",
      "2\t:\t0\n",
      "1\t:\t0\n",
      "-3\t:\t0\n",
      "-1\t:\t1\n",
      "2\t:\t0\n",
      "-3\t:\t0\n",
      "1\t:\t0\n",
      "0\t:\t0\n"
     ]
    }
   ],
   "source": [
    "num1 = 0\n",
    "num2 = 1\n",
    "\n",
    "while(num1 != num2):\n",
    "    num1 = random.randint(-3, 3)\n",
    "    num2 = int(numpy.random.randn())\n",
    "    print(f\"{num1}\\t:\\t{num2}\")"
   ]
  },
  {
   "cell_type": "markdown",
   "id": "a2c929d9",
   "metadata": {},
   "source": [
    "---"
   ]
  }
 ],
 "metadata": {
  "kernelspec": {
   "display_name": "Python 3",
   "language": "python",
   "name": "python3"
  },
  "language_info": {
   "codemirror_mode": {
    "name": "ipython",
    "version": 3
   },
   "file_extension": ".py",
   "mimetype": "text/x-python",
   "name": "python",
   "nbconvert_exporter": "python",
   "pygments_lexer": "ipython3",
   "version": "3.8.8"
  }
 },
 "nbformat": 4,
 "nbformat_minor": 5
}
