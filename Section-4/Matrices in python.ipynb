{
 "cells": [
  {
   "cell_type": "code",
   "execution_count": 2,
   "id": "86711b3a",
   "metadata": {},
   "outputs": [],
   "source": [
    "import numpy as np"
   ]
  },
  {
   "cell_type": "code",
   "execution_count": 5,
   "id": "e2dc2bcc",
   "metadata": {},
   "outputs": [],
   "source": [
    "# Creating matrices using numpy.array()"
   ]
  },
  {
   "cell_type": "code",
   "execution_count": 6,
   "id": "6c8b48bc",
   "metadata": {},
   "outputs": [],
   "source": [
    "list1 = [10, 15, 25, 55, 535]\n",
    "list2 = [3, 6, 9, 12, 15]\n",
    "list3 = [11, 13, 17, 19, 23]"
   ]
  },
  {
   "cell_type": "code",
   "execution_count": 7,
   "id": "3afb8fa9",
   "metadata": {},
   "outputs": [],
   "source": [
    "matrix1 = np.array([list1, list2, list3])"
   ]
  },
  {
   "cell_type": "code",
   "execution_count": 8,
   "id": "1f99a306",
   "metadata": {},
   "outputs": [
    {
     "name": "stdout",
     "output_type": "stream",
     "text": [
      "[[ 10  15  25  55 535]\n",
      " [  3   6   9  12  15]\n",
      " [ 11  13  17  19  23]]\n"
     ]
    }
   ],
   "source": [
    "print(matrix1)"
   ]
  },
  {
   "cell_type": "code",
   "execution_count": 9,
   "id": "3da34ebb",
   "metadata": {},
   "outputs": [
    {
     "name": "stdout",
     "output_type": "stream",
     "text": [
      "<class 'numpy.ndarray'>\n"
     ]
    }
   ],
   "source": [
    "print(type(matrix1))"
   ]
  },
  {
   "cell_type": "markdown",
   "id": "361696c8",
   "metadata": {},
   "source": [
    "---"
   ]
  },
  {
   "cell_type": "code",
   "execution_count": 10,
   "id": "ba8d61f2",
   "metadata": {},
   "outputs": [],
   "source": [
    "# Creating matrix using numpy.reshape()"
   ]
  },
  {
   "cell_type": "code",
   "execution_count": 11,
   "id": "43690232",
   "metadata": {},
   "outputs": [],
   "source": [
    "dimensions = (3, 5)\n",
    "alphabets = ['a', 'b', 'c', 'd', 'e', 'f', 'g', 'h', 'i', 'j', 'k', 'l', 'm', 'n', 'o']"
   ]
  },
  {
   "cell_type": "code",
   "execution_count": 12,
   "id": "92e8978f",
   "metadata": {},
   "outputs": [],
   "source": [
    "matrix_c = np.reshape(alphabets, dimensions, \"C\")"
   ]
  },
  {
   "cell_type": "code",
   "execution_count": 13,
   "id": "7eb057ab",
   "metadata": {},
   "outputs": [],
   "source": [
    "matrix_f = np.reshape(alphabets, dimensions, \"F\")"
   ]
  },
  {
   "cell_type": "code",
   "execution_count": 14,
   "id": "a4a743cd",
   "metadata": {},
   "outputs": [
    {
     "name": "stdout",
     "output_type": "stream",
     "text": [
      "[['a' 'b' 'c' 'd' 'e']\n",
      " ['f' 'g' 'h' 'i' 'j']\n",
      " ['k' 'l' 'm' 'n' 'o']]\n"
     ]
    }
   ],
   "source": [
    "print(matrix_c)"
   ]
  },
  {
   "cell_type": "code",
   "execution_count": 15,
   "id": "04078103",
   "metadata": {},
   "outputs": [
    {
     "name": "stdout",
     "output_type": "stream",
     "text": [
      "[['a' 'd' 'g' 'j' 'm']\n",
      " ['b' 'e' 'h' 'k' 'n']\n",
      " ['c' 'f' 'i' 'l' 'o']]\n"
     ]
    }
   ],
   "source": [
    "print(matrix_f)"
   ]
  },
  {
   "cell_type": "code",
   "execution_count": 16,
   "id": "e8659955",
   "metadata": {},
   "outputs": [
    {
     "name": "stdout",
     "output_type": "stream",
     "text": [
      "<class 'numpy.ndarray'>\n"
     ]
    }
   ],
   "source": [
    "print(type(matrix_c))"
   ]
  },
  {
   "cell_type": "code",
   "execution_count": 17,
   "id": "eba843a5",
   "metadata": {},
   "outputs": [
    {
     "name": "stdout",
     "output_type": "stream",
     "text": [
      "<class 'numpy.ndarray'>\n"
     ]
    }
   ],
   "source": [
    "print(type(matrix_f))"
   ]
  },
  {
   "cell_type": "markdown",
   "id": "91963b76",
   "metadata": {},
   "source": [
    "---"
   ]
  },
  {
   "cell_type": "code",
   "execution_count": 3,
   "id": "8e62cca9",
   "metadata": {},
   "outputs": [],
   "source": [
    "data = np.arange(20)"
   ]
  },
  {
   "cell_type": "code",
   "execution_count": 4,
   "id": "25da9ab9",
   "metadata": {},
   "outputs": [
    {
     "data": {
      "text/plain": [
       "array([ 0,  1,  2,  3,  4,  5,  6,  7,  8,  9, 10, 11, 12, 13, 14, 15, 16,\n",
       "       17, 18, 19])"
      ]
     },
     "execution_count": 4,
     "metadata": {},
     "output_type": "execute_result"
    }
   ],
   "source": [
    "data"
   ]
  },
  {
   "cell_type": "code",
   "execution_count": 5,
   "id": "3ea9b01b",
   "metadata": {},
   "outputs": [
    {
     "data": {
      "text/plain": [
       "array([[ 0,  1,  2,  3],\n",
       "       [ 4,  5,  6,  7],\n",
       "       [ 8,  9, 10, 11],\n",
       "       [12, 13, 14, 15],\n",
       "       [16, 17, 18, 19]])"
      ]
     },
     "execution_count": 5,
     "metadata": {},
     "output_type": "execute_result"
    }
   ],
   "source": [
    "data.reshape((5, 4))"
   ]
  },
  {
   "cell_type": "code",
   "execution_count": 8,
   "id": "4b61b4b4",
   "metadata": {},
   "outputs": [],
   "source": [
    "Matr1 = np.reshape(data, (5,4), \"C\")\n",
    "Matr2 = np.reshape(data, (5,4), \"F\")"
   ]
  },
  {
   "cell_type": "code",
   "execution_count": 9,
   "id": "aa161b44",
   "metadata": {},
   "outputs": [
    {
     "data": {
      "text/plain": [
       "array([[ 0,  1,  2,  3],\n",
       "       [ 4,  5,  6,  7],\n",
       "       [ 8,  9, 10, 11],\n",
       "       [12, 13, 14, 15],\n",
       "       [16, 17, 18, 19]])"
      ]
     },
     "execution_count": 9,
     "metadata": {},
     "output_type": "execute_result"
    }
   ],
   "source": [
    "Matr1"
   ]
  },
  {
   "cell_type": "code",
   "execution_count": 10,
   "id": "776f287f",
   "metadata": {},
   "outputs": [
    {
     "data": {
      "text/plain": [
       "array([[ 0,  5, 10, 15],\n",
       "       [ 1,  6, 11, 16],\n",
       "       [ 2,  7, 12, 17],\n",
       "       [ 3,  8, 13, 18],\n",
       "       [ 4,  9, 14, 19]])"
      ]
     },
     "execution_count": 10,
     "metadata": {},
     "output_type": "execute_result"
    }
   ],
   "source": [
    "Matr2"
   ]
  },
  {
   "cell_type": "code",
   "execution_count": 12,
   "id": "c7bc1dfd",
   "metadata": {},
   "outputs": [
    {
     "data": {
      "text/plain": [
       "10"
      ]
     },
     "execution_count": 12,
     "metadata": {},
     "output_type": "execute_result"
    }
   ],
   "source": [
    "Matr1[2,2]"
   ]
  },
  {
   "cell_type": "code",
   "execution_count": 14,
   "id": "fc6be1ff",
   "metadata": {},
   "outputs": [
    {
     "data": {
      "text/plain": [
       "10"
      ]
     },
     "execution_count": 14,
     "metadata": {},
     "output_type": "execute_result"
    }
   ],
   "source": [
    "Matr2[0,2]"
   ]
  },
  {
   "cell_type": "code",
   "execution_count": null,
   "id": "798abf4d",
   "metadata": {},
   "outputs": [],
   "source": []
  }
 ],
 "metadata": {
  "kernelspec": {
   "display_name": "Python 3",
   "language": "python",
   "name": "python3"
  },
  "language_info": {
   "codemirror_mode": {
    "name": "ipython",
    "version": 3
   },
   "file_extension": ".py",
   "mimetype": "text/x-python",
   "name": "python",
   "nbconvert_exporter": "python",
   "pygments_lexer": "ipython3",
   "version": "3.8.8"
  }
 },
 "nbformat": 4,
 "nbformat_minor": 5
}
