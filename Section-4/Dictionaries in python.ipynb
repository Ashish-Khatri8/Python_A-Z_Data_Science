{
 "cells": [
  {
   "cell_type": "code",
   "execution_count": 1,
   "id": "204fdbe1",
   "metadata": {},
   "outputs": [],
   "source": [
    "dict1 = {\n",
    "    \"key1\": \"value1\",\n",
    "    \"key2\": \"value2\",\n",
    "    \"key3\": \"value3\",\n",
    "}"
   ]
  },
  {
   "cell_type": "code",
   "execution_count": 2,
   "id": "e1c909b3",
   "metadata": {},
   "outputs": [
    {
     "name": "stdout",
     "output_type": "stream",
     "text": [
      "value2\n"
     ]
    }
   ],
   "source": [
    "print(dict1[\"key2\"])"
   ]
  },
  {
   "cell_type": "code",
   "execution_count": 3,
   "id": "153fb540",
   "metadata": {},
   "outputs": [
    {
     "name": "stdout",
     "output_type": "stream",
     "text": [
      "{'key1': 'value1', 'key2': 'value2', 'key3': 'value3'}\n",
      "<class 'dict'>\n"
     ]
    }
   ],
   "source": [
    "print(dict1)\n",
    "print(type(dict1))"
   ]
  },
  {
   "cell_type": "markdown",
   "id": "8ef2dd21",
   "metadata": {},
   "source": [
    "---"
   ]
  },
  {
   "cell_type": "code",
   "execution_count": 5,
   "id": "9c970e67",
   "metadata": {},
   "outputs": [],
   "source": [
    "dict2 = {\n",
    "    \"India\": \"I live here.\",\n",
    "    \"Konoha\": 5,\n",
    "    \"Magnolia\": False,\n",
    "    3: \"Naah\",\n",
    "    True: \"Yesss\",\n",
    "}"
   ]
  },
  {
   "cell_type": "code",
   "execution_count": 6,
   "id": "0877e199",
   "metadata": {},
   "outputs": [
    {
     "data": {
      "text/plain": [
       "{'India': 'I live here.',\n",
       " 'Konoha': 5,\n",
       " 'Magnolia': False,\n",
       " 3: 'Naah',\n",
       " True: 'Yesss'}"
      ]
     },
     "execution_count": 6,
     "metadata": {},
     "output_type": "execute_result"
    }
   ],
   "source": [
    "dict2"
   ]
  },
  {
   "cell_type": "code",
   "execution_count": 7,
   "id": "46792e7e",
   "metadata": {},
   "outputs": [
    {
     "data": {
      "text/plain": [
       "'Yesss'"
      ]
     },
     "execution_count": 7,
     "metadata": {},
     "output_type": "execute_result"
    }
   ],
   "source": [
    "dict2[True]"
   ]
  },
  {
   "cell_type": "code",
   "execution_count": 8,
   "id": "169ecab1",
   "metadata": {},
   "outputs": [
    {
     "data": {
      "text/plain": [
       "'Naah'"
      ]
     },
     "execution_count": 8,
     "metadata": {},
     "output_type": "execute_result"
    }
   ],
   "source": [
    "dict2[3]"
   ]
  },
  {
   "cell_type": "markdown",
   "id": "5755793d",
   "metadata": {},
   "source": [
    "---"
   ]
  },
  {
   "cell_type": "code",
   "execution_count": 9,
   "id": "c1c6834a",
   "metadata": {},
   "outputs": [],
   "source": [
    "dict3 = {\n",
    "    \"usernames\": [\"blaze\", \"leo\", \"rogue\", \"zeref\", \"beast\"],\n",
    "    \"languages\": {\n",
    "        \"C++\": True,\n",
    "        \"Python\": True,\n",
    "        \"Golang\": False,\n",
    "    },\n",
    "}"
   ]
  },
  {
   "cell_type": "code",
   "execution_count": 10,
   "id": "a7101c87",
   "metadata": {},
   "outputs": [
    {
     "data": {
      "text/plain": [
       "{'usernames': ['blaze', 'leo', 'rogue', 'zeref', 'beast'],\n",
       " 'languages': {'C++': True, 'Python': True, 'Golang': False}}"
      ]
     },
     "execution_count": 10,
     "metadata": {},
     "output_type": "execute_result"
    }
   ],
   "source": [
    "dict3"
   ]
  },
  {
   "cell_type": "code",
   "execution_count": 11,
   "id": "3187d862",
   "metadata": {},
   "outputs": [
    {
     "data": {
      "text/plain": [
       "['blaze', 'leo', 'rogue', 'zeref', 'beast']"
      ]
     },
     "execution_count": 11,
     "metadata": {},
     "output_type": "execute_result"
    }
   ],
   "source": [
    "dict3[\"usernames\"]"
   ]
  },
  {
   "cell_type": "code",
   "execution_count": 12,
   "id": "b9014370",
   "metadata": {},
   "outputs": [
    {
     "data": {
      "text/plain": [
       "{'C++': True, 'Python': True, 'Golang': False}"
      ]
     },
     "execution_count": 12,
     "metadata": {},
     "output_type": "execute_result"
    }
   ],
   "source": [
    "dict3[\"languages\"]"
   ]
  },
  {
   "cell_type": "code",
   "execution_count": 13,
   "id": "52891ca9",
   "metadata": {},
   "outputs": [
    {
     "name": "stdout",
     "output_type": "stream",
     "text": [
      "usernames\n",
      "languages\n"
     ]
    }
   ],
   "source": [
    "for key in dict3:\n",
    "    print(key)"
   ]
  },
  {
   "cell_type": "code",
   "execution_count": 19,
   "id": "016605fb",
   "metadata": {},
   "outputs": [
    {
     "name": "stdout",
     "output_type": "stream",
     "text": [
      "['blaze', 'leo', 'rogue', 'zeref', 'beast']\n",
      "{'C++': True, 'Python': True, 'Golang': False}\n"
     ]
    }
   ],
   "source": [
    "for value in dict3.values():\n",
    "    print(value)"
   ]
  },
  {
   "cell_type": "code",
   "execution_count": 21,
   "id": "93750c0a",
   "metadata": {},
   "outputs": [
    {
     "name": "stdout",
     "output_type": "stream",
     "text": [
      "beast\n"
     ]
    }
   ],
   "source": [
    "print(dict3[\"usernames\"][-1])"
   ]
  },
  {
   "cell_type": "code",
   "execution_count": 22,
   "id": "f16c4f53",
   "metadata": {},
   "outputs": [
    {
     "name": "stdout",
     "output_type": "stream",
     "text": [
      "True\n"
     ]
    }
   ],
   "source": [
    "print(dict3[\"languages\"][\"Python\"])"
   ]
  },
  {
   "cell_type": "code",
   "execution_count": null,
   "id": "2e6f48fb",
   "metadata": {},
   "outputs": [],
   "source": []
  }
 ],
 "metadata": {
  "kernelspec": {
   "display_name": "Python 3",
   "language": "python",
   "name": "python3"
  },
  "language_info": {
   "codemirror_mode": {
    "name": "ipython",
    "version": 3
   },
   "file_extension": ".py",
   "mimetype": "text/x-python",
   "name": "python",
   "nbconvert_exporter": "python",
   "pygments_lexer": "ipython3",
   "version": "3.8.8"
  }
 },
 "nbformat": 4,
 "nbformat_minor": 5
}
