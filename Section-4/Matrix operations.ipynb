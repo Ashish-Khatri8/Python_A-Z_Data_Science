{
 "cells": [
  {
   "cell_type": "code",
   "execution_count": 1,
   "id": "4379a6ea",
   "metadata": {},
   "outputs": [],
   "source": [
    "import numpy as np"
   ]
  },
  {
   "cell_type": "code",
   "execution_count": 11,
   "id": "3f7f2ad1",
   "metadata": {},
   "outputs": [],
   "source": [
    "data = np.arange(1, 16)"
   ]
  },
  {
   "cell_type": "code",
   "execution_count": 12,
   "id": "3d844580",
   "metadata": {},
   "outputs": [],
   "source": [
    "matrix1 = np.reshape(data, (5,3), \"C\")"
   ]
  },
  {
   "cell_type": "code",
   "execution_count": 13,
   "id": "27cb93b0",
   "metadata": {},
   "outputs": [
    {
     "name": "stdout",
     "output_type": "stream",
     "text": [
      "[[ 1  2  3]\n",
      " [ 4  5  6]\n",
      " [ 7  8  9]\n",
      " [10 11 12]\n",
      " [13 14 15]]\n"
     ]
    }
   ],
   "source": [
    "print(matrix1)"
   ]
  },
  {
   "cell_type": "code",
   "execution_count": 14,
   "id": "65029296",
   "metadata": {},
   "outputs": [],
   "source": [
    "matrix2 = np.reshape(data, (5,3), \"F\")"
   ]
  },
  {
   "cell_type": "code",
   "execution_count": 15,
   "id": "ec4cd905",
   "metadata": {},
   "outputs": [
    {
     "name": "stdout",
     "output_type": "stream",
     "text": [
      "[[ 1  6 11]\n",
      " [ 2  7 12]\n",
      " [ 3  8 13]\n",
      " [ 4  9 14]\n",
      " [ 5 10 15]]\n"
     ]
    }
   ],
   "source": [
    "print(matrix2)"
   ]
  },
  {
   "cell_type": "markdown",
   "id": "ef70297d",
   "metadata": {},
   "source": [
    "---"
   ]
  },
  {
   "cell_type": "code",
   "execution_count": 16,
   "id": "85ed2a58",
   "metadata": {},
   "outputs": [],
   "source": [
    "# Dividing a matrix by another matrix"
   ]
  },
  {
   "cell_type": "code",
   "execution_count": 17,
   "id": "81d68270",
   "metadata": {},
   "outputs": [],
   "source": [
    "matrix3 = matrix1/ matrix2"
   ]
  },
  {
   "cell_type": "code",
   "execution_count": 18,
   "id": "4f8a171f",
   "metadata": {},
   "outputs": [
    {
     "name": "stdout",
     "output_type": "stream",
     "text": [
      "[[1.         0.33333333 0.27272727]\n",
      " [2.         0.71428571 0.5       ]\n",
      " [2.33333333 1.         0.69230769]\n",
      " [2.5        1.22222222 0.85714286]\n",
      " [2.6        1.4        1.        ]]\n"
     ]
    }
   ],
   "source": [
    "print(matrix3)"
   ]
  },
  {
   "cell_type": "code",
   "execution_count": 35,
   "id": "1e457507",
   "metadata": {},
   "outputs": [
    {
     "name": "stdout",
     "output_type": "stream",
     "text": [
      "[[1.   0.33 0.27]\n",
      " [2.   0.71 0.5 ]\n",
      " [2.33 1.   0.69]\n",
      " [2.5  1.22 0.86]\n",
      " [2.6  1.4  1.  ]]\n"
     ]
    }
   ],
   "source": [
    "print(np.matrix.round(matrix3, decimals=2))"
   ]
  },
  {
   "cell_type": "markdown",
   "id": "90e51bdd",
   "metadata": {},
   "source": [
    "---"
   ]
  },
  {
   "cell_type": "code",
   "execution_count": 23,
   "id": "964044e4",
   "metadata": {},
   "outputs": [],
   "source": [
    "# Multiplyig two matrices.\n",
    "matrix4 = matrix1 * matrix2"
   ]
  },
  {
   "cell_type": "code",
   "execution_count": 24,
   "id": "8d4bee5f",
   "metadata": {},
   "outputs": [
    {
     "data": {
      "text/plain": [
       "array([[  1,  12,  33],\n",
       "       [  8,  35,  72],\n",
       "       [ 21,  64, 117],\n",
       "       [ 40,  99, 168],\n",
       "       [ 65, 140, 225]])"
      ]
     },
     "execution_count": 24,
     "metadata": {},
     "output_type": "execute_result"
    }
   ],
   "source": [
    "matrix4"
   ]
  },
  {
   "cell_type": "markdown",
   "id": "5f3990d3",
   "metadata": {},
   "source": [
    "---"
   ]
  },
  {
   "cell_type": "code",
   "execution_count": 25,
   "id": "df0e785b",
   "metadata": {},
   "outputs": [],
   "source": [
    "# Adding two matrices.\n",
    "matrix5 = matrix1 + matrix2"
   ]
  },
  {
   "cell_type": "code",
   "execution_count": 26,
   "id": "0d1d06e9",
   "metadata": {},
   "outputs": [
    {
     "data": {
      "text/plain": [
       "array([[ 2,  8, 14],\n",
       "       [ 6, 12, 18],\n",
       "       [10, 16, 22],\n",
       "       [14, 20, 26],\n",
       "       [18, 24, 30]])"
      ]
     },
     "execution_count": 26,
     "metadata": {},
     "output_type": "execute_result"
    }
   ],
   "source": [
    "matrix5"
   ]
  },
  {
   "cell_type": "markdown",
   "id": "1e95ad33",
   "metadata": {},
   "source": [
    "---"
   ]
  },
  {
   "cell_type": "code",
   "execution_count": 27,
   "id": "49fa37e7",
   "metadata": {},
   "outputs": [],
   "source": [
    "# Subtracting a matrix from another matrix."
   ]
  },
  {
   "cell_type": "code",
   "execution_count": 28,
   "id": "e7cefecd",
   "metadata": {},
   "outputs": [],
   "source": [
    "matrix6 = matrix1- matrix2"
   ]
  },
  {
   "cell_type": "code",
   "execution_count": 29,
   "id": "81781352",
   "metadata": {},
   "outputs": [
    {
     "data": {
      "text/plain": [
       "array([[ 0, -4, -8],\n",
       "       [ 2, -2, -6],\n",
       "       [ 4,  0, -4],\n",
       "       [ 6,  2, -2],\n",
       "       [ 8,  4,  0]])"
      ]
     },
     "execution_count": 29,
     "metadata": {},
     "output_type": "execute_result"
    }
   ],
   "source": [
    "matrix6"
   ]
  },
  {
   "cell_type": "markdown",
   "id": "ddc35e8a",
   "metadata": {},
   "source": [
    "---"
   ]
  },
  {
   "cell_type": "code",
   "execution_count": 31,
   "id": "62bcdb33",
   "metadata": {},
   "outputs": [],
   "source": [
    "matrix7 = matrix1 % matrix2"
   ]
  },
  {
   "cell_type": "code",
   "execution_count": 32,
   "id": "ece2f519",
   "metadata": {},
   "outputs": [
    {
     "data": {
      "text/plain": [
       "array([[ 0,  2,  3],\n",
       "       [ 0,  5,  6],\n",
       "       [ 1,  0,  9],\n",
       "       [ 2,  2, 12],\n",
       "       [ 3,  4,  0]])"
      ]
     },
     "execution_count": 32,
     "metadata": {},
     "output_type": "execute_result"
    }
   ],
   "source": [
    "matrix7"
   ]
  },
  {
   "cell_type": "code",
   "execution_count": null,
   "id": "40bdefd7",
   "metadata": {},
   "outputs": [],
   "source": []
  }
 ],
 "metadata": {
  "kernelspec": {
   "display_name": "Python 3",
   "language": "python",
   "name": "python3"
  },
  "language_info": {
   "codemirror_mode": {
    "name": "ipython",
    "version": 3
   },
   "file_extension": ".py",
   "mimetype": "text/x-python",
   "name": "python",
   "nbconvert_exporter": "python",
   "pygments_lexer": "ipython3",
   "version": "3.8.8"
  }
 },
 "nbformat": 4,
 "nbformat_minor": 5
}
